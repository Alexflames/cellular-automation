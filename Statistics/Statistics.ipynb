{
 "cells": [
  {
   "cell_type": "markdown",
   "metadata": {},
   "source": [
    "### Cчитывание всех файлов с генами\n",
    "И подсчет количества законченных экспериментов\n",
    "(Берется количество генов в папке)"
   ]
  },
  {
   "cell_type": "code",
   "execution_count": 14,
   "metadata": {},
   "outputs": [
    {
     "name": "stdout",
     "output_type": "stream",
     "text": [
      "Директория: C:\\Users\\Public\\Documents\\Unity Projects\\CellularAutomations\\Statistics\n",
      "Количество завершенных экспериментов: 620\n"
     ]
    }
   ],
   "source": [
    "import glob\n",
    "import os\n",
    "\n",
    "path = os.getcwd()\n",
    "\n",
    "print(\"Директория: \" + path)\n",
    "\n",
    "txtfiles_genes = []\n",
    "for file in glob.glob(\"SimulationData/Genes/*.txt\"):\n",
    "    txtfiles_genes.append(file)\n",
    "    \n",
    "print(\"Количество завершенных экспериментов: \" + str(len(txtfiles_genes)))"
   ]
  }
 ],
 "metadata": {
  "kernelspec": {
   "display_name": "Python 3",
   "language": "python",
   "name": "python3"
  },
  "language_info": {
   "codemirror_mode": {
    "name": "ipython",
    "version": 3
   },
   "file_extension": ".py",
   "mimetype": "text/x-python",
   "name": "python",
   "nbconvert_exporter": "python",
   "pygments_lexer": "ipython3",
   "version": "3.7.6"
  }
 },
 "nbformat": 4,
 "nbformat_minor": 4
}
